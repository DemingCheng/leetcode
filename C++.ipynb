{
 "cells": [
  {
   "cell_type": "markdown",
   "metadata": {},
   "source": [
    "# C++"
   ]
  },
  {
   "cell_type": "markdown",
   "metadata": {},
   "source": [
    "内存管理"
   ]
  },
  {
   "cell_type": "code",
   "execution_count": null,
   "metadata": {},
   "outputs": [],
   "source": [
    "栈，堆，未分割区，BSS段，数据段，代码段"
   ]
  },
  {
   "cell_type": "markdown",
   "metadata": {},
   "source": [
    "### 栈\n",
    "每个函数被调用时，需要从栈分配栈内存保存调用相关信息，这块栈内存被称为**栈帧**。\n",
    "栈帧存放：局部变量，参数值，返回地址\n",
    "\n",
    "特点\n",
    "自动分配和释放，分配速度快。\n",
    "不由程序员管理  \n",
    "栈区是一片连续的内存空间  \n",
    "如果递归层数过多或者输入数据过多或者局部变量过大，会导致栈溢出。  \n",
    "\n",
    "函数中的变量都是在栈空间，\n",
    "当输入的变量值太大，超过给变量赋予的大小，这时候就会把这个栈空间的一些指令给覆盖掉，比如覆盖到返回地址。\n",
    "然后覆盖返回地址的为jmp之类的跳转指令，然后jmp跳到后面你写的恶意代码指令，就造成了缓冲区溢出攻击\n",
    "\n",
    "### 堆\n",
    "\n",
    "\n",
    "### 全局区\n",
    "包含BSS段，数据段（data）,常量段\n",
    "\n",
    "\n",
    "\n",
    "### 代码区（text/code segement）\n",
    "\n",
    "\n",
    "### 区分malloc 和 free， new 和 delete\n",
    "\n",
    "\n",
    "\n"
   ]
  },
  {
   "cell_type": "markdown",
   "metadata": {},
   "source": [
    "![image.png](attachment:image.png)"
   ]
  },
  {
   "cell_type": "markdown",
   "metadata": {},
   "source": [
    "static关键词\n",
    "加了static，\n",
    "全局变量只能在本文件使用\n",
    "局部变量存放在数据段（普通局部变量存放在栈中，会因为函数栈的释放被释放）"
   ]
  },
  {
   "cell_type": "markdown",
   "metadata": {},
   "source": [
    "全局静态变量\n",
    "局部静态变量\n",
    "静态函数\n",
    "类的静态成员变量\n",
    "类的静态成员函数"
   ]
  },
  {
   "cell_type": "markdown",
   "metadata": {},
   "source": [
    "类的静态成员函数 http://c.biancheng.net/view/2228.html"
   ]
  },
  {
   "cell_type": "markdown",
   "metadata": {},
   "source": [
    "static"
   ]
  },
  {
   "cell_type": "code",
   "execution_count": null,
   "metadata": {},
   "outputs": [],
   "source": []
  },
  {
   "cell_type": "markdown",
   "metadata": {},
   "source": []
  },
  {
   "cell_type": "markdown",
   "metadata": {},
   "source": [
    "### C 编译过程\n",
    "预处理：宏替换，条件编译，删除注释，展开头文件  \n",
    "编译：编译成汇编语言，词法分析，语法分析  \n",
    "汇编：翻译成机器语言  \n",
    "链接：将目标模块和库链接成可执行文件   \n",
    "\n",
    "###  链接库的类型\n",
    "链接器：生成可执行文件或库文件。\n",
    "\n",
    "静态库：指编译链接时，把库文件的代码全部加入到可执行文件中，因此生成的文件比较大，但在运行时也就不再需要库文件了，其后缀名一般为“.a”。\n",
    "动态库：在编译链接时并没有把库文件的代码加入到可执行文件中，而是在程序执行时由运行时链接文件加载库，这样可执行文件比较小，动态库一般后缀名为“.so”。\n",
    "可执行文件：将所有的二进制文件链接起来融合成一个可执行程序，不管这些文件是目标二进制文件还是库二进制文件。\n",
    "\n",
    "静态链接库：在编译时连接到目标模块，可执行文件运行前就已经获得了所需的库函数的备份。\n",
    "优点是以空间换时间，因为可执行文件已经拥有了所有所需的文件。\n",
    "缺点是浪费空间，每个可执行文件都包含一份静态库的备份；使用不灵活，修改静态库以后要重新编译整个文件。\n",
    "\n",
    "动态链接库：在装入时链接或在运行时链接。在装入内存时链接或者可执行文件运行时链接。  \n",
    "装入时链接的好处是：便于共享，模块化的风格。  \n",
    "\n",
    "运行时链接的好处是：目标模块的链接，推迟到执行时才进行。在执行过程中，若发现一个被调用模块尚未装入内存时，由OS去找到该模块，将它装入内存，并把它连接到调用模块上。优点是：节省内存，因为有些模块不会被用到，比如异常处理。  \n",
    "\n",
    "\n",
    "装入：虚拟地址到内存实际的物理地址映射。\n",
    "动态重定位的特点是可以将程序分配到不连续的存储区中；在程序运行之前可以只装入它的部分代码即可投入运行，然后在程序运行期间，根据需要动态申请分配内存；便于程序段的共享，可以向用户提供一个比存储空间大得多的地址空间。\n",
    "https://guisu.blog.csdn.net/article/details/5713099?spm=1001.2101.3001.6650.4&utm_medium=distribute.pc_relevant.none-task-blog-2%7Edefault%7EBlogCommendFromBaidu%7ERate-4-5713099-blog-93230532.235%5Ev38%5Epc_relevant_sort_base1&depth_1-utm_source=distribute.pc_relevant.none-task-blog-2%7Edefault%7EBlogCommendFromBaidu%7ERate-4-5713099-blog-93230532.235%5Ev38%5Epc_relevant_sort_base1&utm_relevant_index=5\n",
    "\n",
    "\n"
   ]
  },
  {
   "cell_type": "markdown",
   "metadata": {},
   "source": [
    "### 指针数组与数组指针  \n",
    "**指针数组**：指针的数组。变量是数组，数组的每一个元素是指针。\n",
    "char* arr[] = {\"Hello\", \"World\"};\n",
    "**数组指针**：数组的指针。变量是指针，指针指向数组的首地址。\n",
    "char (*pa)[4] \n",
    "\n",
    "数组首地址（数组指针） ！= 数组元素首地址\n",
    "char (*pa)[4] 不等于 a; char a[4];\n",
    "\n",
    "**使用场景**  \n",
    "指针数组用来传参，比如int main(int argc, char* argv[])\n",
    "函数传参时，如果数组过大，可以传数组首地址，用一个指针接住地址。因此，指针数组对应着二级指针。  \n",
    "void foo(int ** arr);//子函数中的形参\n",
    "foo(int *arr[]);//主函数中的实参\n",
    "\n",
    "\n",
    "数组指针是一个指针，那么就是用来接收地址，在传参时接收数组的地址，所以数组指针对应的是二维数组。   \n",
    "void fun(int (*P)[4]);//子函数中的形参，数组指针   \n",
    "a[3][4] = {0};//主函数中定义的二维数组  \n",
    "fun(a);//主函数调用子函数的实参，是二维数组的首元素首地址  \n"
   ]
  },
  {
   "cell_type": "markdown",
   "metadata": {},
   "source": []
  },
  {
   "cell_type": "markdown",
   "metadata": {},
   "source": [
    "待办\n",
    "\n",
    "## 语言\n",
    "虚函数\n",
    "内存\n",
    "static\n",
    "类相关函数\n",
    "const和define的区别\n",
    "\n",
    "\n",
    "## 操作系统\n",
    "\n",
    "\n",
    "## 计网 全部\n",
    "\n",
    "## 项目\n",
    "\n",
    "\n",
    "## 杂项\n",
    "手撕八大排序，排序稳定性，时间复杂度\n",
    "不稳定的：快排，堆排，希尔，选择\n",
    "稳定的：冒泡，归并，插入，基数\n",
    "\n",
    "手撕智能指针\n",
    "手撕设计模式-单例\n",
    "\n",
    "\n",
    "\n",
    "\n",
    "\n",
    "## leetcode\n",
    "树的遍历\n"
   ]
  },
  {
   "cell_type": "markdown",
   "metadata": {},
   "source": [
    "#include <iostream>\n",
    "#include <memory>\n",
    "using namespace std;\n",
    "\n",
    "//shared_ptr, weak_ptr, unique_ptr\n",
    "\n",
    "/*shared_ptr\n",
    "shared_ptr多个指针指向相同的对象。shared_ptr使用引用计数，每一个shared_ptr的拷贝都指向相同的内存。每使用他一次，内部的引用计数加1，每析构一次，内部的引用计数减1，减为0时，自动删除所指向的堆内存。shared_ptr内部的引用计数是线程安全的，但是对象的读取需要加锁。\n",
    "\n",
    "初始化。智能指针是个模板类，可以指定类型，传入指针通过构造函数初始化。也可以使用make_shared函数初始化。不能将指针直接赋值给一个智能指针，一个是类，一个是指针。例如std::shared_ptr<int> p4 = new int(1);的写法是错误的\n",
    "拷贝和赋值。拷贝使得对象的引用计数增加1，赋值使得原对象引用计数减1，当计数为0时，自动释放内存。后来指向的对象引用计数加1，指向后来的对象。\n",
    "get函数获取原始指针\n",
    "注意不要用一个原始指针初始化多个shared_ptr，否则会造成二次释放同一内存\n",
    "注意避免循环引用，shared_ptr的一个最大的陷阱是循环引用，循环，循环引用会导致堆内存无法正确释放，导致内存泄漏。循环引用在weak_ptr中介绍。\n",
    "*/\n",
    "\n",
    "/*\n",
    " unique_ptr“唯一”拥有其所指对象，同一时刻只能有一个unique_ptr指向给定对象（通过禁止拷贝语义、只有移动语义来实现）。\n",
    " 相比与原始指针unique_ptr用于其RAII的特性，使得在出现异常的情况下，动态资源能得到释放。\n",
    " unique_ptr指针本身的生命周期：从unique_ptr指针创建时开始，直到离开作用域。离开作用域时，若其指向对象，则将其所指对象销毁(默认使用delete操作符，用户可指定其他操作)。\n",
    " unique_ptr指针与其所指对象的关系：\n",
    " 在智能指针生命周期内，可以改变智能指针所指对象，如创建智能指针时通过构造函数指定、通过reset方法重新指定、通过release方法释放所有权、通过移动语义转移所有权。\n",
    "*/\n",
    "\n",
    "/*\n",
    "weak_ptr是为了配合shared_ptr而引入的一种智能指针，因为它不具有普通指针的行为，没有重载operator*和->,它的最大作用在于协助shared_ptr工作，像旁观者那样观测资源的使用情况。\n",
    "weak_ptr可以从一个shared_ptr或者另一个weak_ptr对象构造，获得资源的观测权。但weak_ptr没有共享资源，它的构造不会引起指针引用计数的增加。\n",
    "使用weak_ptr的成员函数use_count()可以观测资源的引用计数，另一个成员函数expired()的功能等价于use_count()==0,但更快，表示被观测的资源(也就是shared_ptr的管理的资源)已经不复存在。\n",
    "weak_ptr可以使用一个非常重要的成员函数lock()从被观测的shared_ptr获得一个可用的shared_ptr对象， 从而操作资源。\n",
    "但当expired()==true的时候，lock()函数将返回一个存储空指针的shared_ptr。\n",
    "*/\n",
    "\n",
    "void sharedPointer() {\n",
    "\tint a = 10;\n",
    "\tstd::shared_ptr<int>ptra = std::make_shared<int>(a);\n",
    "\tstd::shared_ptr<int>ptra2(ptra); //copy\n",
    "\tstd::cout << ptra.use_count() << std::endl;\n",
    "\n",
    "\tint b = 20;\n",
    "\tint *pb = &a;\n",
    "\tstd::shared_ptr<int>ptrb = std::make_shared<int>(b);\n",
    "\tptra2 = ptrb; //assign\n",
    "\tpb = ptrb.get(); //get the original pointer\n",
    "\n",
    "\tstd::cout << ptra.use_count() << std::endl;\n",
    "\tstd::cout << ptrb.use_count() << std::endl;\n",
    "}\n",
    "\n",
    "void uniquePointer() {\n",
    "\tstd::unique_ptr<int>uptr(new int(10)); //绑定动态对象\n",
    "\tstd::unique_ptr<int>uptr2 = std::move(uptr); //转换所有权\n",
    "\tuptr2.release(); //释放所有权\n",
    "}\n",
    "\n",
    "void weakPointer() {\n",
    "\tstd::shared_ptr<int>sh_ptr = std::make_shared<int>(10);\n",
    "\tstd::cout << sh_ptr.use_count() << std::endl;\n",
    "\n",
    "\tstd::weak_ptr<int>wp(sh_ptr);\n",
    "\tstd::cout << wp.use_count() << std::endl;\n",
    "\n",
    "\tif (!wp.expired()) {\n",
    "\t\tstd::shared_ptr<int>sh_ptr2 = wp.lock();\n",
    "\t\t*sh_ptr = 100;\n",
    "\t\tstd::cout << wp.use_count() << std::endl;\n",
    "\t}\n",
    "}\n",
    "\n",
    "int main() {\n",
    "\t\n",
    "\treturn 0;\n",
    "}"
   ]
  },
  {
   "cell_type": "markdown",
   "metadata": {},
   "source": []
  },
  {
   "cell_type": "markdown",
   "metadata": {},
   "source": []
  },
  {
   "cell_type": "markdown",
   "metadata": {},
   "source": [
    "\n",
    "算法: 最近公共祖先\n",
    "HashMap什么时候rehash？\n",
    "rehash的细节？（我真的忘了，面试官想问底层代码\n",
    "为什么HashMap要用红黑树？\n",
    "红黑树时间复杂度？\n",
    "LFU和LRU相关？\n",
    "跳表结构？在哪些数据库有用到\n",
    "Https对http的改进？\n",
    "对称加密和非对称加密？\n",
    "https一定安全吗？\n",
    "\n",
    "作者：lyusi\n",
    "链接：https://www.nowcoder.com/discuss/519244686922399744?sourceSSR=dynamic\n",
    "来源：牛客网\n"
   ]
  },
  {
   "cell_type": "markdown",
   "metadata": {},
   "source": [
    "![jupyter](https://github.com/DemingCheng/leetcode/raw/main/assert/memory.png?raw=true)"
   ]
  }
 ],
 "metadata": {
  "kernelspec": {
   "display_name": "Python 3 (ipykernel)",
   "language": "python",
   "name": "python3"
  },
  "language_info": {
   "codemirror_mode": {
    "name": "ipython",
    "version": 3
   },
   "file_extension": ".py",
   "mimetype": "text/x-python",
   "name": "python",
   "nbconvert_exporter": "python",
   "pygments_lexer": "ipython3",
   "version": "3.9.13"
  }
 },
 "nbformat": 4,
 "nbformat_minor": 2
}
