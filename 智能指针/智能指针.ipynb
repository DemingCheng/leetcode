{
 "cells": [
  {
   "cell_type": "markdown",
   "metadata": {},
   "source": [
    " - 智能指针是什么\n",
    "智能指针不是一个指针，而是一个对象，它应用了对象创建时通过构造函数获取资源，析构的时候析构函数自动的释放内存资源，来实现RAII机制，不需要手动的释放内存空间，避免了内存泄漏的问题。\n",
    "\n",
    " - 智能指针解决的问题\n",
    "1. 内存泄漏。避免程序员忘记手动的释放内存，或者因为提前return，抛出异常等导致内存泄漏\n",
    "2. 共享所有权指针的传播和释放。比如多线程使用同一个对象时的析构问题。\n",
    "\n",
    "\n",
    "智能指针\n",
    "类模板的方式实现\n",
    "\n",
    " - 如何选择使用哪种智能指针\n",
    "要从所有权和生命周期的方面去考虑\n",
    "如果内存所有权不确定，可能后续多个对象共享该内存，使用shared_ptr\n",
    "如果需要独占的访问内存，选择unique_ptr。unique_ptr管理的内存只能被一个对象持有\n"
   ]
  },
  {
   "cell_type": "markdown",
   "metadata": {},
   "source": [
    " - shared_ptr\n",
    "共享智能指针，通过引用计数计算有多少个shared_ptr共享内存，当引用计数为零的时候释放内存。\n",
    "通过make_shared创建shared_ptr, 避免显式的使用new.\n",
    "通过use_count来查看引用计数\n",
    "通过get获取原始指针\n",
    "通过reset来减少计数\n",
    "\n"
   ]
  }
 ],
 "metadata": {
  "language_info": {
   "name": "python"
  },
  "orig_nbformat": 4
 },
 "nbformat": 4,
 "nbformat_minor": 2
}
