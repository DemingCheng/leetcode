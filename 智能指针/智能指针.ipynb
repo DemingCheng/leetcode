{
 "cells": [
  {
   "cell_type": "markdown",
   "metadata": {},
   "source": []
  },
  {
   "cell_type": "markdown",
   "metadata": {},
   "source": [
    " - shared_ptr\n",
    "共享智能指针，通过引用计数计算有多少个shared_ptr共享内存，当引用计数为零的时候释放内存。\n",
    "通过make_shared创建shared_ptr, 避免显式的使用new.\n",
    "通过use_count来查看引用计数\n",
    "通过get获取原始指针\n",
    "通过reset来减少计数\n",
    "\n"
   ]
  }
 ],
 "metadata": {
  "language_info": {
   "name": "python"
  },
  "orig_nbformat": 4
 },
 "nbformat": 4,
 "nbformat_minor": 2
}
