{
 "cells": [
  {
   "cell_type": "markdown",
   "metadata": {},
   "source": [
    " - 智能指针是什么\n",
    "智能指针不是一个指针，而是一个对象，它应用了对象创建时通过构造函数获取资源，析构的时候析构函数自动的释放内存资源，来实现RAII机制，不需要手动的释放内存空间，避免了内存泄漏的问题。\n",
    "\n",
    "\n"
   ]
  }
 ],
 "metadata": {
  "language_info": {
   "name": "python"
  },
  "orig_nbformat": 4
 },
 "nbformat": 4,
 "nbformat_minor": 2
}
