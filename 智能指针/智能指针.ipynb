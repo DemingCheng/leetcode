{
 "cells": [
  {
   "cell_type": "markdown",
   "metadata": {},
   "source": [
    " - 智能指针是什么\n",
    "智能指针不是一个指针，而是一个对象，它应用了对象创建时通过构造函数获取资源，析构的时候析构函数自动的释放内存资源，来实现RAII机制，不需要手动的释放内存空间，避免了内存泄漏的问题。\n",
    "\n",
    "\n",
    "智能指针\n",
    "类模板的方式实现\n",
    "\n",
    " - 如何选择使用哪种智能指针\n",
    "要从所有权和生命周期的方面去考虑\n",
    "如果内存所有权不确定，可能后续多个对象共享该内存，使用shared_ptr\n",
    "如果需要独占的访问内存，选择unique_ptr"
   ]
  }
 ],
 "metadata": {
  "language_info": {
   "name": "python"
  },
  "orig_nbformat": 4
 },
 "nbformat": 4,
 "nbformat_minor": 2
}
