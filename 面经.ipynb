{
 "cells": [
  {
   "cell_type": "code",
   "execution_count": null,
   "metadata": {},
   "outputs": [],
   "source": []
  },
  {
   "cell_type": "markdown",
   "metadata": {},
   "source": [
    "# 滴滴"
   ]
  },
  {
   "cell_type": "markdown",
   "metadata": {},
   "source": [
    "滴滴\n",
    "进程间通信方式，线程间通信方式  \n",
    "死锁的四个条件  \n",
    "一致性哈希原理作用，除了负载均衡还有呢  \n",
    "\n",
    "网络部分\n",
    "http 常见状态码，4xx，5xx 状态码表示什么情况\n",
    "tcp 三次握手，为什么不是两次握手，为什么不是三次、四次、五次\n",
    "tcp中序列号是怎么来的\n",
    "tcp超时，断开连接RST是由谁发出的\n",
    "tcp 与 udp 的区别，如果你用udp去实现类似tcp的可靠传输协议会怎么做？\n",
    "\n",
    "链接：https://www.nowcoder.com/discuss/518823982636769280?sourceSSR=dynamic\n",
    "来源：牛客网\n",
    "\n",
    "代码\n",
    "给定字符串，输出该字符串中出现次数最多的字符。（要最优写法）\n",
    "写一个最久未使用淘汰策略算法\n",
    "LRU \n",
    "√ leetcode22 生成括号\n",
    "leetcode 226 翻转二叉树\n",
    "手撕两道简单题：\n",
    "1. 和为N的三个数\n",
    "2. 二叉树的层序遍历\n",
    "\n",
    "场景题\n",
    "设计一个短信系统\n",
    "要求 1、实时和定时两种模式  2、用户能够退订 3、一天对同一个用户至多发送一次短信 4、单个任务量级1千万\n",
    "人都麻了，从数据库表设计到系统架构  等等"
   ]
  },
  {
   "cell_type": "markdown",
   "metadata": {},
   "source": []
  },
  {
   "cell_type": "markdown",
   "metadata": {},
   "source": [
    "京东"
   ]
  },
  {
   "cell_type": "markdown",
   "metadata": {},
   "source": [
    "# 计网:\n",
    "http和tcp 区别和联系。\n",
    "dns域名解析过程，基于什么传输层协议。\n",
    "三次握手，具体状态变化。\n",
    "\n",
    "Int数据，有正负数，找出 加和最大的子序列（用了一维dp过了）"
   ]
  },
  {
   "cell_type": "markdown",
   "metadata": {},
   "source": [
    "快手"
   ]
  },
  {
   "cell_type": "markdown",
   "metadata": {},
   "source": [
    "字节"
   ]
  },
  {
   "cell_type": "markdown",
   "metadata": {},
   "source": [
    "算法: \n",
    "最近公共祖先\n",
    "手撕旋转数组\n",
    "\n",
    "\n",
    "HashMap什么时候rehash？\n",
    "rehash的细节？（我真的忘了，面试官想问底层代码\n",
    "为什么HashMap要用红黑树？\n",
    "红黑树时间复杂度？\n",
    "LFU和LRU相关？\n",
    "跳表结构？在哪些数据库有用到\n",
    "Https对http的改进？\n",
    "对称加密和非对称加密？\n",
    "https一定安全吗？\n",
    "\n",
    "作者：lyusi\n",
    "链接：https://www.nowcoder.com/discuss/519244686922399744?sourceSSR=dynamic\n",
    "来源：牛客网"
   ]
  },
  {
   "cell_type": "markdown",
   "metadata": {},
   "source": []
  }
 ],
 "metadata": {
  "language_info": {
   "name": "python"
  },
  "orig_nbformat": 4
 },
 "nbformat": 4,
 "nbformat_minor": 2
}
