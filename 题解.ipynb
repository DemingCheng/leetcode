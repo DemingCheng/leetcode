{
 "cells": [
  {
   "cell_type": "code",
   "execution_count": null,
   "metadata": {},
   "outputs": [],
   "source": [
    "树\n",
    "https://leetcode.cn/problems/shu-de-zi-jie-gou-lcof/solutions/791039/yi-pian-wen-zhang-dai-ni-chi-tou-dui-che-uhgs/?envType=study-plan-v2&envId=coding-interviews\n",
    "\n",
    "https://leetcode.cn/problems/invert-binary-tree/solutions/2388513/er-cha-shu-jing-dian-ti-mu-zong-jie-by-x-u6kt/"
   ]
  },
  {
   "cell_type": "markdown",
   "metadata": {},
   "source": [
    "二分法除了可以进行有序查找、解方程等外，还可以用来解决一些实际问题。这些问题中，非常典型的应用就是“最小化最大值问题”和“最大化最小值问题”  \n",
    "“最小化最大值问题”和“最大化最小值问题”在优化问题中比较常见，简单来说，“最小化最大值”是为了压制优化目标中表现最突出的分，大化最小值”为了提升优化目标中表现最差的成分。   \n",
    "（1）“最小化最大值问题”一般来说，优化时考虑的是目标函数的最大化或最小化的问题。但是在某些情况下，则要求最大值的最小化才有意义。例如，在城市规划确定急救中心、消防中心的位置，可取的目标函数应该是到所有地点最大距离的最小值（即急救中心、消防中心的建设位置应保证它最远点的距离尽可能小），而不是到达所有目的地距离和的最小值。因为城市同时发生事故或同时着火的几率极低，因此更多应该考如何降低劣情况的影响，即使是最远的地方出事了，中心到它们的距离也能达到最小。  \n",
    "（2）“最大化最小值问题”这个问题在通信链路中应用比较多，如基站同时和多用户通信，每个基站到用户的通信为一个通信链路，且基站的发射功率是固定的。为所有的通信链路都正常工作，应该去优化最差链路的通信情况，降低信道较好链路的基站发射功率，增加信道较差链路的基站发射率，这个最大化最小值问题。"
   ]
  }
 ],
 "metadata": {
  "language_info": {
   "name": "python"
  },
  "orig_nbformat": 4
 },
 "nbformat": 4,
 "nbformat_minor": 2
}
