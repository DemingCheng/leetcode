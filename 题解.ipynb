{
 "cells": [
  {
   "cell_type": "code",
   "execution_count": null,
   "metadata": {},
   "outputs": [],
   "source": [
    "树\n",
    "https://leetcode.cn/problems/shu-de-zi-jie-gou-lcof/solutions/791039/yi-pian-wen-zhang-dai-ni-chi-tou-dui-che-uhgs/?envType=study-plan-v2&envId=coding-interviews\n",
    "\n",
    "https://leetcode.cn/problems/invert-binary-tree/solutions/2388513/er-cha-shu-jing-dian-ti-mu-zong-jie-by-x-u6kt/"
   ]
  }
 ],
 "metadata": {
  "language_info": {
   "name": "python"
  },
  "orig_nbformat": 4
 },
 "nbformat": 4,
 "nbformat_minor": 2
}
