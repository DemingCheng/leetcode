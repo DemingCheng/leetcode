{
 "cells": [
  {
   "cell_type": "code",
   "execution_count": null,
   "metadata": {},
   "outputs": [],
   "source": [
    "TCP（Transmission Control Protocol）和UDP（User Datagram Protocol）是两种互联网协议，它们都用于在网络上传输数据，但是它们之间有一些显著的区别，如下：\n",
    "\n",
    "连接方式：TCP是面向连接的协议，每次通信前需要建立连接，数据传输完后需要释放连接；UDP则是无连接的协议，不需要建立和释放连接，直接发送数据包。\n",
    "\n",
    "可靠性：TCP是可靠的协议，能够保证数据传输的可靠性。当数据丢失或损坏时，TCP会自动重传丢失的数据，保证数据的完整性；UDP则是不可靠的协议，数据包在传输过程中有可能丢失、重复或损坏，不保证数据传输的可靠性。\n",
    "\n",
    "传输速度：UDP比TCP传输速度更快，因为UDP没有TCP的重传机制、流量控制机制和拥塞控制机制，减少了额外的开销。\n",
    "\n",
    "数据包大小：TCP数据包大小不限，可以根据网络状况动态调整；UDP的数据包大小有限制，最大只能达到64K。\n",
    "\n",
    "应用场景：TCP适用于对数据可靠性要求较高的场景，如文件传输、邮件发送等；UDP适用于对实时性要求较高的场景，如音频、视频等实时传输。"
   ]
  },
  {
   "cell_type": "markdown",
   "metadata": {},
   "source": []
  },
  {
   "cell_type": "markdown",
   "metadata": {},
   "source": []
  },
  {
   "cell_type": "markdown",
   "metadata": {},
   "source": [
    "TCP和UDP的区别"
   ]
  },
  {
   "cell_type": "markdown",
   "metadata": {},
   "source": []
  },
  {
   "cell_type": "markdown",
   "metadata": {},
   "source": [
    "网络部分\n",
    "http 常见状态码，4xx，5xx 状态码表示什么情况\n",
    "tcp 三次握手，为什么不是两次握手，为什么不是三次、四次、五次\n",
    "tcp中序列号是怎么来的\n",
    "tcp超时，断开连接RST是由谁发出的\n",
    "tcp 与 udp 的区别，如果你用udp去实现类似tcp的可靠传输协议会怎么做？\n",
    "\n",
    "链接：https://www.nowcoder.com/discuss/518823982636769280?sourceSSR=dynamic\n",
    "来源：牛客网"
   ]
  }
 ],
 "metadata": {
  "language_info": {
   "name": "python"
  },
  "orig_nbformat": 4
 },
 "nbformat": 4,
 "nbformat_minor": 2
}
