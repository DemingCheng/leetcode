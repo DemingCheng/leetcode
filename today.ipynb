{
 "cells": [
  {
   "cell_type": "markdown",
   "metadata": {},
   "source": [
    "ToDo List:\n",
    "手撕：\n",
    "智能指针\n",
    "单例模式-懒汉饿汉\n",
    "排序 不稳定的快排，堆排，希尔，直接选择\n",
    "稳定的 归并，冒泡，基数排序，直接插入\n",
    "\n",
    "\n",
    "刷题：\n",
    "top-k\n",
    "回文\n"
   ]
  },
  {
   "cell_type": "markdown",
   "metadata": {},
   "source": [
    "8.28周一\n",
    "剑指 Offer 67. 把字符串转换成整数\n",
    "\n",
    "剑指 Offer 63. 股票的最大利润\n",
    "剑指 Offer 42. 连续子数组的最大和\n",
    "\n",
    "\n",
    "虚函数\n",
    "\n",
    "8.29周二  \n",
    "线程池  \n",
    "剑指 Offer 47. 礼物的最大价值  \n",
    "\n",
    "\n",
    "\n",
    "8.30\n",
    "树相关的递归解法\n",
    "100. 相同的树 \n",
    "226. 翻转二叉树 \n",
    "104. 二叉树的最大深度 \n",
    "110. 平衡二叉树 \n",
    "543. 二叉树的直径 \n",
    "617. 合并二叉树 \n",
    "572. 另一个树的子树 \n",
    "965. 单值二叉树\n",
    "\n",
    "作者：星晴pro\n",
    "链接：https://leetcode.cn/problems/shu-de-zi-jie-gou-lcof/solutions/791039/yi-pian-wen-zhang-dai-ni-chi-tou-dui-che-uhgs/\n",
    "\n",
    "难点 树的子结构 树的子树 树的对称\n",
    "\n",
    "8.31\n",
    "懒汉饿汉搞定\n",
    "\n",
    "二叉树的层序遍历\n",
    "剑指 Offer 32 - II. 从上到下打印二叉树 II\n",
    "\n"
   ]
  },
  {
   "cell_type": "markdown",
   "metadata": {},
   "source": [
    "class Solution {\n",
    "public:\n",
    "    vector<vector<int>> levelOrder(TreeNode* root) {\n",
    "        if(root == nullptr) {\n",
    "            return {};\n",
    "        }\n",
    "        vector<vector<int>> ans;\n",
    "        queue<TreeNode*> q;\n",
    "        q.push(root);\n",
    "        bool flag = 0;\n",
    "        while(!q.empty()) {\n",
    "            int size = q.size();\n",
    "            vector<int> temp;\n",
    "            while(size--) {\n",
    "                TreeNode* node = q.front();\n",
    "                q.pop();\n",
    "                temp.push_back(node->val);\n",
    "                if(flag == 0) {\n",
    "                    if(node->right)\n",
    "                    \n",
    "                }\n",
    "                else {\n",
    "\n",
    "                }\n",
    "            }\n",
    "            ans.push_back(temp);\n",
    "            flag = !flag;\n",
    "        }\n",
    "        return ans;\n",
    "    }\n",
    "};"
   ]
  },
  {
   "cell_type": "markdown",
   "metadata": {},
   "source": []
  }
 ],
 "metadata": {
  "language_info": {
   "name": "python"
  },
  "orig_nbformat": 4
 },
 "nbformat": 4,
 "nbformat_minor": 2
}
